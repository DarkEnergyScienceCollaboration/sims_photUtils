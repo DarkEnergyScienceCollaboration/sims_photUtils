{
 "metadata": {
  "name": ""
 },
 "nbformat": 3,
 "nbformat_minor": 0,
 "worksheets": [
  {
   "cells": [
    {
     "cell_type": "heading",
     "level": 1,
     "metadata": {},
     "source": [
      "Galaxy SED Matching using selectGalaxySED.py"
     ]
    },
    {
     "cell_type": "markdown",
     "metadata": {},
     "source": [
      "\"selectGalaxySED.py\" is designed to do the matching for galaxy objects. There are two steps to using this program: "
     ]
    },
    {
     "cell_type": "markdown",
     "metadata": {},
     "source": [
      "1) First load the model SEDs you would like to use. If using the Bruzual & Charlot models from sims_sed_library you can use the built-in \"loadBC03\" method provided as shown in the example below. However, this can be used as a template for creating loading methods for your own model SEDs if desired. Be aware that since the BC03 SEDs are defined in the sims_sed_library to be in the rest frame, this code assumes that any incoming model SEDs are in the rest frame. If using your own folder of model SEDs specify the parameter \"galDir\" when initializing the class."
     ]
    },
    {
     "cell_type": "code",
     "collapsed": false,
     "input": [
      "from lsst.sims.photUtils.readGalfast.selectGalaxySED import selectGalaxySED\n",
      "\n",
      "#If you are using your own folder this should be selectGalaxySED(galDir = yourFolder)\n",
      "matchSED = selectGalaxySED()\n",
      "\"\"\"Can restrict the loading below to a subset of the SEDs in a given folder if you pass a list\n",
      "as matchSED.loadBC03(subset = subsetList)\"\"\"\n",
      "sedList = matchSED.loadBC03()"
     ],
     "language": "python",
     "metadata": {},
     "outputs": [
      {
       "output_type": "stream",
       "stream": "stdout",
       "text": [
        "Loading 0 of 960: BC Galaxy SEDs\n",
        "Loading 100 of 960: BC Galaxy SEDs"
       ]
      },
      {
       "output_type": "stream",
       "stream": "stdout",
       "text": [
        "\n",
        "Loading 200 of 960: BC Galaxy SEDs"
       ]
      },
      {
       "output_type": "stream",
       "stream": "stdout",
       "text": [
        "\n",
        "Loading 300 of 960: BC Galaxy SEDs"
       ]
      },
      {
       "output_type": "stream",
       "stream": "stdout",
       "text": [
        "\n",
        "Loading 400 of 960: BC Galaxy SEDs"
       ]
      },
      {
       "output_type": "stream",
       "stream": "stdout",
       "text": [
        "\n",
        "Loading 500 of 960: BC Galaxy SEDs"
       ]
      },
      {
       "output_type": "stream",
       "stream": "stdout",
       "text": [
        "\n",
        "Loading 600 of 960: BC Galaxy SEDs"
       ]
      },
      {
       "output_type": "stream",
       "stream": "stdout",
       "text": [
        "\n",
        "Loading 700 of 960: BC Galaxy SEDs"
       ]
      },
      {
       "output_type": "stream",
       "stream": "stdout",
       "text": [
        "\n",
        "Loading 800 of 960: BC Galaxy SEDs"
       ]
      },
      {
       "output_type": "stream",
       "stream": "stdout",
       "text": [
        "\n",
        "Loading 900 of 960: BC Galaxy SEDs"
       ]
      },
      {
       "output_type": "stream",
       "stream": "stdout",
       "text": [
        "\n"
       ]
      }
     ],
     "prompt_number": 1
    },
    {
     "cell_type": "markdown",
     "metadata": {},
     "source": [
      "Now you have a set of SED Spectrum class (defined in readGalfast/rgUtils) objects. Each object in the set has the attributes wave (wavelengths), flux (flambda), name, type, age, and metallicity (defined as a ratio to solar metallicity)."
     ]
    },
    {
     "cell_type": "code",
     "collapsed": false,
     "input": [
      "print sedList[0].wave\n",
      "print sedList[0].flux\n",
      "print sedList[0].name"
     ],
     "language": "python",
     "metadata": {},
     "outputs": [
      {
       "output_type": "stream",
       "stream": "stdout",
       "text": [
        "[  9.40000000e+00   9.60000000e+00   9.80000000e+00 ...,   1.20000000e+05\n",
        "   1.40000000e+05   1.60000000e+05]\n",
        "[  3.00000000e-06   4.00000000e-06   7.00000000e-06 ...,   0.00000000e+00\n",
        "   0.00000000e+00   0.00000000e+00]\n",
        "Burst.10E07.0005Z.spec.gz\n"
       ]
      }
     ],
     "prompt_number": 6
    },
    {
     "cell_type": "markdown",
     "metadata": {},
     "source": [
      "You now have a set of model SEDs ready to match to your catalog objects."
     ]
    },
    {
     "cell_type": "markdown",
     "metadata": {},
     "source": [
      "2) Once the SEDs are loaded you have two options for matching depending on your catalog type. If your catalog contains rest frame magnitudes and needs no dust or redshift corrections then you can match to the model SEDs using \"matchToRestFrame\"."
     ]
    },
    {
     "cell_type": "code",
     "collapsed": false,
     "input": [
      "import os\n",
      "import numpy as np\n",
      "\n",
      "#Import sample galaxy catalog organized as [RA, Dec, z, mag_g, mag_r, mag_i, mag_z, mag_y]\n",
      "ra, dec, z, mag_g, mag_r, mag_i, mag_z, mag_y = np.genfromtxt('sampleCatalogs/sampleGalCat.dat', unpack=True)\n",
      "\n",
      "\"\"\"Organize magnitudes into single array with each row corresponding to the \n",
      "set of magnitudes of one object\"\"\"\n",
      "catMags = np.transpose([mag_g, mag_r, mag_i, mag_z, mag_y])\n",
      "\n",
      "#Defaults are SDSS ugriz but can substitute any bandpasses, e.g. incomplete LSST\n",
      "matchRestFrame = matchSED.matchToRestFrame(sedList, catMags, filterList = ('g', 'r', 'i', 'z', 'y'),\n",
      "                                           throughputDir = os.getenv('LSST_THROUGHPUTS_DEFAULT'),\n",
      "                                           filterRoot = 'total_')\n",
      "\n",
      "#Show the resulting matches\n",
      "print matchRestFrame"
     ],
     "language": "python",
     "metadata": {},
     "outputs": [
      {
       "output_type": "stream",
       "stream": "stdout",
       "text": [
        "Matched 0 of 10 catalog objects to SEDs\n",
        "['Const.20E09.25Z.spec.gz', 'Const.50E09.25Z.spec.gz', 'Inst.19E07.1Z.spec.gz', 'Const.50E09.1Z.spec.gz', 'Inst.64E08.1Z.spec.gz', 'Const.12E10.25Z.spec.gz', 'Inst.10E07.1Z.spec.gz', 'Const.12E10.25Z.spec.gz', 'Inst.10E07.1Z.spec.gz', 'Const.32E09.1Z.spec.gz']\n"
       ]
      }
     ],
     "prompt_number": 19
    },
    {
     "cell_type": "markdown",
     "metadata": {},
     "source": [
      "If your catalog magnitudes are observed and require correction for milky way dust and redshift you should use \"matchToObserved\". \n",
      "\n",
      "Since for speed this generates colors for the model SEDs on a grid of redshift values, you can specify the digits after the decimal point you want to step through in this grid with the parameter dzAcc (default is dzAcc = 2 which will make a grid with steps in z equal to 0.01).\n",
      "\n",
      "If correcting for extinction refer to <a href=\"http://adsabs.harvard.edu/abs/2011ApJ...737..103S\">Schlafly and Finkbeiner (2011)</a> for the extinction coefficients for your filters. We use R<sub>v</sub> = 3.1 coefficients in Table 6 in that paper. Defaults are for SDSS ugriz. For reference:\n",
      "\n",
      "SDSS ugriz coefficients in order are [4.239, 3.303, 2.285, 1.698, 1.263]\n",
      "\n",
      "LSST ugrizy are [4.145, 3.237, 2.273, 1.684, 1.323, 1.088]"
     ]
    },
    {
     "cell_type": "code",
     "collapsed": false,
     "input": [
      "#Show this using SDSS defaults with only griz instead of complete ugriz\n",
      "matchObserved = matchSED.matchToObserved(sedList, ra, dec, z, catMags,\n",
      "                                         filterList = ('g','r','i','z'),\n",
      "                                         dzAcc = 2, extinction = True,\n",
      "                                         extCoeffs = (3.303, 2.285, 1.698, 1.263))\n",
      "print matchObserved"
     ],
     "language": "python",
     "metadata": {},
     "outputs": [
      {
       "output_type": "stream",
       "stream": "stdout",
       "text": [
        "Building Redshifted Color Set.\n",
        "0 out of 79 redshifts gone through"
       ]
      },
      {
       "output_type": "stream",
       "stream": "stdout",
       "text": [
        "\n",
        "10 out of 79 redshifts gone through"
       ]
      },
      {
       "output_type": "stream",
       "stream": "stdout",
       "text": [
        "\n",
        "20 out of 79 redshifts gone through"
       ]
      },
      {
       "output_type": "stream",
       "stream": "stdout",
       "text": [
        "\n",
        "30 out of 79 redshifts gone through"
       ]
      },
      {
       "output_type": "stream",
       "stream": "stdout",
       "text": [
        "\n",
        "40 out of 79 redshifts gone through"
       ]
      },
      {
       "output_type": "stream",
       "stream": "stdout",
       "text": [
        "\n",
        "50 out of 79 redshifts gone through"
       ]
      },
      {
       "output_type": "stream",
       "stream": "stdout",
       "text": [
        "\n",
        "60 out of 79 redshifts gone through"
       ]
      },
      {
       "output_type": "stream",
       "stream": "stdout",
       "text": [
        "\n",
        "70 out of 79 redshifts gone through"
       ]
      },
      {
       "output_type": "stream",
       "stream": "stdout",
       "text": [
        "\n",
        "Done Building Set. Starting Matching."
       ]
      },
      {
       "output_type": "stream",
       "stream": "stdout",
       "text": [
        "\n",
        "Matched 0 of 10 catalog objects to SEDs\n",
        "['Exp.10E07.0005Z.spec.gz', 'Inst.32E07.02Z.spec.gz', 'Inst.25E07.1Z.spec.gz', 'Inst.40E07.1Z.spec.gz', 'Inst.25E07.1Z.spec.gz', 'Inst.32E07.25Z.spec.gz', 'Inst.25E07.1Z.spec.gz', 'Const.25E09.25Z.spec.gz', 'Const.12E07.0005Z.spec.gz', 'Inst.25E06.002Z.spec.gz']\n"
       ]
      }
     ],
     "prompt_number": 25
    }
   ],
   "metadata": {}
  }
 ]
}