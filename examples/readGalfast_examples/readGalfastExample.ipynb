{
 "metadata": {
  "name": "",
  "signature": "sha256:fbffc74f5fc820402322a56e1bcf501257409ca519cf528da95caa36f6b9e79f"
 },
 "nbformat": 3,
 "nbformat_minor": 0,
 "worksheets": [
  {
   "cells": [
    {
     "cell_type": "heading",
     "level": 1,
     "metadata": {},
     "source": [
      "Using readGalfast.py"
     ]
    },
    {
     "cell_type": "markdown",
     "metadata": {},
     "source": [
      "After running Galfast you will have an output catalog with object information and magnitudes. \"readGalfast.py\" is designed to process the Galfast Catalog and return a matched SED along relevant information that is included in the UW simulations catalogs. If the path variables are unset in the initial call then the routine will default to using what is available in the LSST stack's \"sims_sed_library\". However, if you have different locations for you kurucz, mlt, or bergeron white dwarf SEDs you can specify those (below we specify new locations for the white dwarf SEDs). You can also declare a subset of the SEDs in whichever folder you use. For instance if you only wanted to use a particular metallicity of kurucz SEDs within the set provided in \"sims_sed_library\" you would do so as shown in the example below."
     ]
    },
    {
     "cell_type": "code",
     "collapsed": false,
     "input": [
      "import numpy as np\n",
      "import os\n",
      "from lsst.sims.photUtils.readGalfast import readGalfast\n",
      "\n",
      "#Setup list of km01 metallicity Kurucz SEDs\n",
      "kuruczList = os.listdir(str(os.getenv(\"SIMS_SED_LIBRARY_DIR\") + '/starSED/kurucz/'))\n",
      "km01List = []\n",
      "for kuruczName in kuruczList:\n",
      "    if kuruczName.startswith('km01'):\n",
      "        km01List.append(kuruczName)\n",
      "\n",
      "rgExample = readGalfast()\n",
      "rgExample.loadGalfast(['sampleCatalogs/sampleGalfastCat.txt'],\n",
      "                      ['exampleOutput.txt'],\n",
      "                      wdPath = 'sampleSEDs/wd/',\n",
      "                      kuruczSubset = km01List)"
     ],
     "language": "python",
     "metadata": {},
     "outputs": [
      {
       "output_type": "stream",
       "stream": "stdout",
       "text": [
        "Loading 0 of 59: Kurucz SEDs\n",
        "Loading 0 of 123: MLT SEDs"
       ]
      },
      {
       "output_type": "stream",
       "stream": "stdout",
       "text": [
        "\n",
        "Loading 100 of 123: MLT SEDs"
       ]
      },
      {
       "output_type": "stream",
       "stream": "stdout",
       "text": [
        "\n",
        "Loading 0 of 5: WD SEDs"
       ]
      },
      {
       "output_type": "stream",
       "stream": "stdout",
       "text": [
        "\n"
       ]
      }
     ],
     "prompt_number": 1
    },
    {
     "cell_type": "markdown",
     "metadata": {},
     "source": [
      "The output file contains a csv file with all catalog objects and the relevant information. Shown below is the header and first line of the output file. Notice the matched SED is included here."
     ]
    },
    {
     "cell_type": "code",
     "collapsed": false,
     "input": [
      "rgOut = open('exampleOutput.txt', 'r')\n",
      "print rgOut.readline()\n",
      "print rgOut.readline()\n",
      "rgOut.close()"
     ],
     "language": "python",
     "metadata": {},
     "outputs": [
      {
       "output_type": "stream",
       "stream": "stdout",
       "text": [
        "#oID, ra, dec, gall, galb, coordX, coordY, coordZ, sEDName, fluxNorm, magNorm, LSSTugrizy, SDSSugriz, absSDSSr, pmRA, pmDec, vRad, pml, pmb, vRadlb, vR, vPhi, vZ, FeH, pop, distKpc, ebv, ebvInf\n",
        "\n",
        "1,276.2408792,-34.1289733,359.5000006,-9.8413461,10395.6300000,-90.7200000,-1803.4300000,m4.3Full.dat.gz,3.4321380e-13,2.7875000e+01,30.2333467,27.8828876,26.5259031,25.0499808,24.3398065,24.0247043,30.4850000,27.9450000,26.5280000,25.0490000,24.2760000,11.4120000,-1.8400000,-4.1200000,-6.6800000,-4.5100000,-0.1700000,-6.6800000,0.0000000,0.0000000,0.0000000,0.7350000,3,10.5535847,0.0000000,0.0000000\n",
        "\n"
       ]
      }
     ],
     "prompt_number": 2
    },
    {
     "cell_type": "code",
     "collapsed": false,
     "input": [
      "#This deletes the output file from the examples directory when you are done. \n",
      "#If you don't want this, just comment it out.\n",
      "os.remove('exampleOutput.txt')"
     ],
     "language": "python",
     "metadata": {},
     "outputs": [],
     "prompt_number": 3
    },
    {
     "cell_type": "code",
     "collapsed": false,
     "input": [],
     "language": "python",
     "metadata": {},
     "outputs": []
    }
   ],
   "metadata": {}
  }
 ]
}
